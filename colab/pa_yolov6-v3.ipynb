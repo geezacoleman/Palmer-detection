{
 "cells": [
  {
   "cell_type": "markdown",
   "source": [],
   "metadata": {
    "collapsed": false
   }
  },
  {
   "cell_type": "markdown",
   "source": [
    "# Palmer Amaranth (Amaranthus palmeri) Growth Stage Detection\n",
    "This Google Colab notebook has been developed from the official YOLOv6 ['Train on Custom Data' tutorial](https://github.com/meituan/YOLOv6/blob/main/docs/Train_custom_data.md). It can be used to train and evaluate YOLOv6 on the Palmer amaranth Growth Stage (PAGS8) dataset. The dataset is available for download from [Weed-AI](). Prior to use, the dataset should be setup using the instructions from the official repository.\n",
    "  \n",
    "Please note this uses the [3.0 release](https://github.com/meituan/YOLOv6/releases/tag/0.3.0) of the v6 repository.\n",
    "\n",
    "It accompanies the preprint: **Multi-growth stage plant recognition: a case study of Palmer amaranth (Amaranthus palmeri) in cotton (Gossypium hirsutum)** available on [arXiv](https://arxiv.org/abs/2307.15816). Please consider citing this preprint if you use the work in your research.\n",
    "\n",
    "Models were trained using Google Colab Pro+ with access to an NVIDIA A100-SXM4-40GB.\n",
    "\n",
    "This notbook consists of three parts:\n",
    "1. Setup\n",
    "2. Training\n",
    "3. Evaluation\n",
    "\n",
    "For additional documentation, training options and inference procedures please visit the official YOLOv6 repository.\n",
    "\n",
    "(Remember to choose GPU in Runtime if not already selected. Runtime --> Change Runtime Type --> Hardware accelerator --> GPU)\n",
    "\n",
    "<img src=\"https://github.com/geezacoleman/Palmer-detection/blob/main/media/figure_2.png\"/>"
   ],
   "metadata": {
    "collapsed": false
   }
  },
  {
   "cell_type": "markdown",
   "source": [
    "# 1. Setup"
   ],
   "metadata": {
    "collapsed": false
   }
  },
  {
   "cell_type": "code",
   "execution_count": null,
   "metadata": {
    "colab": {
     "base_uri": "https://localhost:8080/"
    },
    "executionInfo": {
     "elapsed": 20734,
     "status": "ok",
     "timestamp": 1674843625211,
     "user": {
      "displayName": "Guy Coleman",
      "userId": "03981860468374888786"
     },
     "user_tz": -60
    },
    "id": "6qMUXWJhJwiI",
    "outputId": "ddf13078-8a5b-4e02-9833-882bcb43fc6a"
   },
   "outputs": [],
   "source": [
    "# mount google drive\n",
    "from google.colab import drive\n",
    "drive.mount('/content/drive')"
   ]
  },
  {
   "cell_type": "code",
   "execution_count": null,
   "outputs": [],
   "source": [
    "# import necessary packages\n",
    "import torch\n",
    "import random\n",
    "\n",
    "random.seed(0)\n",
    "\n",
    "from datetime import datetime\n",
    "\n",
    "DATE = datetime.now().strftime('%Y%m%d')\n",
    "IMAGE_SIZE = 1280\n",
    "\n",
    "print('torch %s %s' % (torch.__version__, torch.cuda.get_device_properties(0) if torch.cuda.is_available() else 'CPU'))"
   ],
   "metadata": {
    "collapsed": false
   }
  },
  {
   "cell_type": "code",
   "execution_count": null,
   "metadata": {
    "colab": {
     "base_uri": "https://localhost:8080/"
    },
    "executionInfo": {
     "elapsed": 346,
     "status": "ok",
     "timestamp": 1674843646301,
     "user": {
      "displayName": "Guy Coleman",
      "userId": "03981860468374888786"
     },
     "user_tz": -60
    },
    "id": "1Fv8VN0rKEew",
    "outputId": "91766e48-51ab-4e2b-e926-df03f04959db"
   },
   "outputs": [],
   "source": [
    "rootDir = '/content/drive/MyDrive/Colab Notebooks/Palmer-detection/data'\n",
    "%cd '/content/drive/MyDrive/Colab Notebooks/Palmer-detection/'"
   ]
  },
  {
   "cell_type": "markdown",
   "source": [
    "Install requirements"
   ],
   "metadata": {
    "collapsed": false
   }
  },
  {
   "cell_type": "code",
   "execution_count": null,
   "metadata": {
    "colab": {
     "base_uri": "https://localhost:8080/"
    },
    "executionInfo": {
     "elapsed": 12990,
     "status": "ok",
     "timestamp": 1674843660452,
     "user": {
      "displayName": "Guy Coleman",
      "userId": "03981860468374888786"
     },
     "user_tz": -60
    },
    "id": "pkIKEEyjKVjY",
    "outputId": "ddbb179a-dd31-41a2-ba38-9148af0483ab"
   },
   "outputs": [],
   "source": [
    "!ls\n",
    "%cd yolov6v3\n",
    "!pip install -r requirements.txt"
   ]
  },
  {
   "cell_type": "markdown",
   "source": [
    "## Download pretrained models\n",
    "Download the pretrained models to finetune on the custom data into the 'weights' directory within YOLOv6. They should only be downloaded once.\n",
    "\n",
    "NOTE: These are 0.3.0 models from the [3.0 release](https://github.com/meituan/YOLOv6/releases/tag/0.3.0). For the latest models please check the official repository."
   ],
   "metadata": {
    "collapsed": false
   }
  },
  {
   "cell_type": "code",
   "execution_count": null,
   "metadata": {
    "id": "FMWBSCp8VRQp"
   },
   "outputs": [],
   "source": [
    "!wget https://github.com/meituan/YOLOv6/releases/download/0.3.0/yolov6n.pt -O weights/yolov6n.pt\n",
    "!wget https://github.com/meituan/YOLOv6/releases/download/0.3.0/yolov6l.pt -O weights/yolov6l.pt\n",
    "!wget https://github.com/meituan/YOLOv6/releases/download/0.3.0/yolov6n6.pt -O weights/yolov6n6.pt\n",
    "!wget https://github.com/meituan/YOLOv6/releases/download/0.3.0/yolov6l6.pt -O weights/yolov6l6.pt"
   ]
  },
  {
   "cell_type": "markdown",
   "source": [
    "You can use Tensorboard to track training."
   ],
   "metadata": {
    "collapsed": false
   }
  },
  {
   "cell_type": "code",
   "execution_count": null,
   "metadata": {
    "id": "tZnl2L39ThAJ"
   },
   "outputs": [],
   "source": [
    "# Load the TensorBoard notebook extension\n",
    "%load_ext tensorboard"
   ]
  },
  {
   "cell_type": "code",
   "execution_count": null,
   "metadata": {
    "id": "c_a1DWBETfPb"
   },
   "outputs": [],
   "source": [
    "%tensorboard --logdir logs"
   ]
  },
  {
   "cell_type": "markdown",
   "source": [
    "# 2. Training"
   ],
   "metadata": {
    "collapsed": false
   }
  },
  {
   "cell_type": "code",
   "execution_count": null,
   "outputs": [],
   "source": [
    "%cd '/content/drive/My Drive/Colab Notebooks/Palmer-detection/yolov6v3'\n",
    "models = ['n', 'l', 'n6', 'l6'] # N T S M L\n",
    "classes = ['1', '8']\n",
    "\n",
    "# different folds\n",
    "for model in models:\n",
    "  for class_num in classes:\n",
    "    for fold in range(0, 5):\n",
    "      yaml_path = f\"{class_num}cls_fold_{fold}.yaml\"\n",
    "      full_name = f'{DATE}_yolov6v3{model}_B8_F{fold}_{class_num}cls'\n",
    "\n",
    "      print('################ STARTING {} ###################'.format(full_name))\n",
    "      !python tools/train.py --workers 8 --batch 8 --device 0 --img-size {IMAGE_SIZE} --epochs 30 --conf configs/yolov6{model}_finetune.py  --data data/{data_path}  --name {full_name}"
   ],
   "metadata": {
    "collapsed": false
   }
  },
  {
   "cell_type": "markdown",
   "metadata": {
    "id": "xsZ_8PmN8Rut"
   },
   "source": [
    "# 3. Evaluation"
   ]
  },
  {
   "cell_type": "code",
   "execution_count": null,
   "metadata": {
    "colab": {
     "base_uri": "https://localhost:8080/"
    },
    "executionInfo": {
     "elapsed": 121882,
     "status": "ok",
     "timestamp": 1674844245853,
     "user": {
      "displayName": "Guy Coleman",
      "userId": "03981860468374888786"
     },
     "user_tz": -60
    },
    "id": "Fp4NjCBggA52",
    "outputId": "fabbc97d-005e-44a6-e59e-5321a33e2964"
   },
   "outputs": [],
   "source": [
    "import os\n",
    "train_path = \"/content/drive/My Drive/Colab Notebooks/Palmer-detection/yolov6v3/runs/train\"\n",
    "\n",
    "for run_name in os.listdir(train_path):\n",
    "  if 'yolo' not in run_name:\n",
    "    print(f'skipping {run_name}')\n",
    " \n",
    "  else:\n",
    "    fold = run_name.split(\"_\")[-3][-1]\n",
    "    class_num = run_name.split(\"_\")[-2][:-3]\n",
    "    model = run_name.split(\"_\")[1][-1]\n",
    "    \n",
    "    yaml_path = f\"{class_num}cls_fold_{fold}.yaml\"\n",
    "  \n",
    "    !python tools/eval.py --device 0 --img-size {IMAGE_SIZE} --task 'test' --config-file configs/yolov6{model}_finetune_eval.py --weights runs/train/{run_name}/weights/best_ckpt.pt --data data/{data_name} --name {run_name}\n"
   ]
  }
 ],
 "metadata": {
  "accelerator": "GPU",
  "colab": {
   "machine_shape": "hm",
   "provenance": [],
   "authorship_tag": "ABX9TyNNlxRW6BU8iWO7/tvc3ey/"
  },
  "gpuClass": "premium",
  "kernelspec": {
   "display_name": "Python 3",
   "name": "python3"
  },
  "language_info": {
   "name": "python"
  }
 },
 "nbformat": 4,
 "nbformat_minor": 0
}
