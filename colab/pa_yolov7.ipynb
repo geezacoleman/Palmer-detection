{
 "cells": [
  {
   "cell_type": "markdown",
   "metadata": {
    "id": "GD9gUQpaBxNa"
   },
   "source": [
    "# Palmer Amaranth (Amaranthus palmeri) Growth Stage Detection\n",
    "This Google Colab notebook tutorial is based on the [YOLOv7 repository](https://github.com/WongKinYiu/yolov7) by WongKinYiu. For additional context, the original authors recommend that you follow along in this notebook while reading the blog post on [how to train YOLOv7](https://blog.roboflow.com/yolov7-custom-dataset-training-tutorial/), concurrently. This can be used to train and evaluate YOLOv7 on the Palmer amaranth Growth Stage (PAGS8) dataset. The dataset is available for download from [Weed-AI](). Prior to use, the dataset should be setup using the instructions from the PAGS8 repository.\n",
    "\n",
    "It accompanies the preprint: **Multi-growth stage plant recognition: a case study of Palmer amaranth (Amaranthus palmeri) in cotton (Gossypium hirsutum)** available on [arXiv](https://arxiv.org/abs/2307.15816). Please consider citing this preprint if you use the work in your research.\n",
    "\n",
    "Models were trained using Google Colab Pro+ with access to an NVIDIA A100-SXM4-40GB.\n",
    "\n",
    "This notbook consists of three parts:\n",
    "1. Setup\n",
    "2. Training\n",
    "3. Evaluation\n",
    "\n",
    "For additional documentation, training options and inference procedures please visit the official YOLOv7 repository.\n",
    "\n",
    "(Remember to choose GPU in Runtime if not already selected. Runtime --> Change Runtime Type --> Hardware accelerator --> GPU)\n",
    "\n",
    "<img src=\"https://github.com/geezacoleman/Palmer-detection/assets/51358498/6040227e-a072-43bf-a789-72e0833f3168\"/>\n"
   ]
  },
  {
   "cell_type": "markdown",
   "metadata": {
    "id": "7mGmQbAO5pQb"
   },
   "source": [
    "# 1. Setup"
   ]
  },
  {
   "cell_type": "code",
   "execution_count": null,
   "metadata": {
    "colab": {
     "base_uri": "https://localhost:8080/"
    },
    "executionInfo": {
     "elapsed": 20847,
     "status": "ok",
     "timestamp": 1670515589649,
     "user": {
      "displayName": "Guy Coleman",
      "userId": "03981860468374888786"
     },
     "user_tz": -60
    },
    "id": "nNTtYF-ixwmi",
    "outputId": "4932a895-2ebc-4b63-c4e6-d23cda05fa23"
   },
   "outputs": [],
   "source": [
    "# mount google drive\n",
    "from google.colab import drive\n",
    "drive.mount('/content/drive')"
   ]
  },
  {
   "cell_type": "code",
   "execution_count": null,
   "outputs": [],
   "source": [
    "# import necessary packages\n",
    "import torch\n",
    "import random\n",
    "\n",
    "random.seed(0)\n",
    "\n",
    "from datetime import datetime\n",
    "\n",
    "DATE = datetime.now().strftime('%Y%m%d')\n",
    "IMAGE_SIZE = 1280\n",
    "\n",
    "print('torch %s %s' % (torch.__version__, torch.cuda.get_device_properties(0) if torch.cuda.is_available() else 'CPU'))"
   ],
   "metadata": {
    "collapsed": false
   }
  },
  {
   "cell_type": "code",
   "execution_count": null,
   "metadata": {
    "colab": {
     "base_uri": "https://localhost:8080/"
    },
    "executionInfo": {
     "elapsed": 19,
     "status": "ok",
     "timestamp": 1670515590504,
     "user": {
      "displayName": "Guy Coleman",
      "userId": "03981860468374888786"
     },
     "user_tz": -60
    },
    "id": "bO-07_jSyAwO",
    "outputId": "b5a846a1-799a-45eb-f957-3bdb15008d79"
   },
   "outputs": [],
   "source": [
    "rootDir = '/content/drive/MyDrive/Colab Notebooks/Palmer-detection/data'\n",
    "%cd '/content/drive/MyDrive/Colab Notebooks/Palmer-detection/'"
   ]
  },
  {
   "cell_type": "code",
   "execution_count": null,
   "metadata": {
    "colab": {
     "base_uri": "https://localhost:8080/"
    },
    "executionInfo": {
     "elapsed": 872,
     "status": "ok",
     "timestamp": 1670515590502,
     "user": {
      "displayName": "Guy Coleman",
      "userId": "03981860468374888786"
     },
     "user_tz": -60
    },
    "id": "nD-uPyQ_2jiN",
    "outputId": "0df7ce8a-cc59-4b25-ba0d-64e61cb26869"
   },
   "outputs": [],
   "source": [
    "%cd yolov7\n",
    "!pip install -r requirements.txt"
   ]
  },
  {
   "cell_type": "markdown",
   "metadata": {
    "id": "bHfT9gEiBsBd"
   },
   "source": [
    "## Download model weights\n",
    "NOTE: The pretrained models used here are from YOLOv7 release [0.0.1](https://github.com/WongKinYiu/yolov7/releases/tag/v0.1)"
   ]
  },
  {
   "cell_type": "code",
   "execution_count": null,
   "metadata": {
    "colab": {
     "base_uri": "https://localhost:8080/"
    },
    "executionInfo": {
     "elapsed": 14909,
     "status": "ok",
     "timestamp": 1669218511601,
     "user": {
      "displayName": "Guy Coleman",
      "userId": "03981860468374888786"
     },
     "user_tz": -60
    },
    "id": "bUbmy674bhpD",
    "outputId": "66043eb8-e8d3-4cc9-d3c6-5732c83e5c70"
   },
   "outputs": [],
   "source": [
    "# download checkpoints\n",
    "%cd '/content/drive/MyDrive/Colab Notebooks/Palmer-detection/yolov7'\n",
    "!wget https://github.com/WongKinYiu/yolov7/releases/download/v0.1/yolov7_training.pt\n",
    "!wget https://github.com/WongKinYiu/yolov7/releases/download/v0.1/yolov7x_training.pt"
   ]
  },
  {
   "cell_type": "markdown",
   "source": [
    "Use weights and biases (WandB) if needed for managing and tracking training progress."
   ],
   "metadata": {
    "collapsed": false
   }
  },
  {
   "cell_type": "code",
   "execution_count": null,
   "metadata": {
    "colab": {
     "base_uri": "https://localhost:8080/",
     "height": 416
    },
    "executionInfo": {
     "elapsed": 20022,
     "status": "ok",
     "timestamp": 1670506339357,
     "user": {
      "displayName": "Guy Coleman",
      "userId": "03981860468374888786"
     },
     "user_tz": -60
    },
    "id": "ma29yMAE7RRR",
    "outputId": "4ea6cd8d-6b40-4600-da1f-6310a113fc14"
   },
   "outputs": [],
   "source": [
    "# Weights & Biases  (optional)\n",
    "%pip install -q wandb\n",
    "import wandb\n",
    "wandb.login()"
   ]
  },
  {
   "cell_type": "markdown",
   "source": [
    "# 2. Training"
   ],
   "metadata": {
    "collapsed": false
   }
  },
  {
   "cell_type": "code",
   "execution_count": null,
   "outputs": [],
   "source": [
    "%cd '/content/drive/My Drive/Colab Notebooks/Palmer-detection/yolov7'\n",
    "models = ['x', ''] # train X and Original models\n",
    "classes = ['1', '8']\n",
    "\n",
    "for model in models:\n",
    "  for class_num in classes:\n",
    "    for fold in range(0, 5):\n",
    "      yaml_path = f\"{class_num}cls_fold_{fold}.yaml\"\n",
    "      full_name = f'{DATE}_yolov7{model}_B8_F{fold}_{class_num}cls'\n",
    "      \n",
    "      print(full_name)\n",
    "      !python train.py --workers 8 --device 0 --img {IMAGE_SIZE} --cfg cfg/training/yolov7{model}.yaml --hyp data/hyp.scratch.custom.yaml --batch 8 --epochs 30 --data data/{data_path} --weights yolov7{model}_training.pt --name {full_name}"
   ],
   "metadata": {
    "collapsed": false
   }
  },
  {
   "cell_type": "markdown",
   "metadata": {
    "id": "QK0f6e1gbyvL"
   },
   "source": [
    "# 3. Evaluation"
   ]
  },
  {
   "cell_type": "code",
   "execution_count": null,
   "metadata": {
    "colab": {
     "base_uri": "https://localhost:8080/"
    },
    "id": "Kz6bWFdfbynj",
    "outputId": "a7ac3c98-933c-4212-b327-655eafab1a3d",
    "executionInfo": {
     "status": "ok",
     "timestamp": 1670520682072,
     "user_tz": -60,
     "elapsed": 52659,
     "user": {
      "displayName": "Guy Coleman",
      "userId": "03981860468374888786"
     }
    }
   },
   "outputs": [],
   "source": [
    "import os\n",
    "train_path = \"/content/drive/My Drive/Colab Notebooks/Palmer-detection/yolov7/runs/train\"\n",
    "for run_name in os.listdir(train_path):\n",
    "  if 'yolo' not in run_name:\n",
    "    print(f'skipping {run_name}')\n",
    "  \n",
    "  else:\n",
    "    fold = run_name.split(\"_\")[-3][-1]\n",
    "    class_num = run_name.split(\"_\")[-2][:-3]\n",
    "    \n",
    "    yaml_path = f\"{class_num}cls_fold_{fold}.yaml\"\n",
    "  \n",
    "    !python test.py --img {IMAGE_SIZE} --weights runs/train/{run_name}/weights/best.pt --data data/{yaml_path} --name {run_name} --task 'test' --batch 8  --iou-thres 0.6 --conf-thres 0.001 --verbose  --v5-metric  --save-metrics\n"
   ]
  }
 ],
 "metadata": {
  "accelerator": "GPU",
  "colab": {
   "machine_shape": "hm",
   "provenance": [
    {
     "file_id": "1X9A8odmK4k6l26NDviiT6dd6TgR-piOa",
     "timestamp": 1668602322985
    },
    {
     "file_id": "1YnbqOinBZV-c9I7fk_UL6acgnnmkXDMM",
     "timestamp": 1657587444672
    },
    {
     "file_id": "1gDZ2xcTOgR39tGGs-EZ6i3RTs16wmzZQ",
     "timestamp": 1656523193068
    },
    {
     "file_id": "https://github.com/ultralytics/yolov5/blob/master/tutorial.ipynb",
     "timestamp": 1591755516488
    }
   ]
  },
  "gpuClass": "premium",
  "kernelspec": {
   "display_name": "Python 3",
   "name": "python3"
  }
 },
 "nbformat": 4,
 "nbformat_minor": 0
}
