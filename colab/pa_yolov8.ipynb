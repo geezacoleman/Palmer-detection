{
 "cells": [
  {
   "cell_type": "markdown",
   "metadata": {
    "id": "t6MPjfT5NrKQ"
   },
   "source": [
    "# Palmer Amaranth (Amaranthus palmeri) Growth Stage Detection\n",
    "This Google Colab notebook has been adapted from the [**official YOLOv8 guide** by **Ultralytics**](https://colab.research.google.com/github/ultralytics/ultralytics/blob/main/examples/tutorial.ipynb) to train and evaluate YOLOv8 on the Palmer amaranth Growth Stage (PAGS8) dataset. The dataset is available for download from [Weed-AI](). Prior to use, the dataset should be setup using the instructions from the official repository.\n",
    "\n",
    "It accompanies the preprint: **Multi-growth stage plant recognition: a case study of Palmer amaranth (Amaranthus palmeri) in cotton (Gossypium hirsutum)** available on [arXiv](https://arxiv.org/abs/2307.15816). Please consider citing this preprint if you use the work in your research.\n",
    "\n",
    "NOTE: Ultralytics version [8.0.19](https://pypi.org/project/ultralytics/8.0.19/) was used.\n",
    "\n",
    "Models were trained using Google Colab Pro+ with access to an NVIDIA A100-SXM4-40GB.\n",
    "\n",
    "This notbook consists of five parts:\n",
    "1. Setup\n",
    "2. Training\n",
    "3. Evaluation\n",
    "4. Predict\n",
    "5. Export\n",
    "\n",
    "<img src=\"https://github.com/geezacoleman/Palmer-detection/assets/51358498/6040227e-a072-43bf-a789-72e0833f3168\"/>\n",
    "\n",
    "Browse the <a href=\"https://docs.ultralytics.com/\">official YOLOv8 Docs</a> for specific issues with YOLOv8 or consider leaving an issue in this repository.\n"
   ]
  },
  {
   "cell_type": "markdown",
   "metadata": {
    "id": "7mGmQbAO5pQb"
   },
   "source": [
    "# 1. Setup\n",
    "\n",
    "Install `ultralytics` from our cloned repository (ensuring to replicate version [8.0.19](https://pypi.org/project/ultralytics/8.0.19/))and [dependencies](https://github.com/ultralytics/ultralytics/blob/master/requirements.txt) and check PyTorch and GPU use.\n",
    "\n",
    "More recent versions of Ultralytics are available via `pip install ultralytics`."
   ]
  },
  {
   "cell_type": "code",
   "execution_count": null,
   "metadata": {
    "colab": {
     "base_uri": "https://localhost:8080/"
    },
    "executionInfo": {
     "elapsed": 16119,
     "status": "ok",
     "timestamp": 1675092231956,
     "user": {
      "displayName": "Guy Coleman",
      "userId": "03981860468374888786"
     },
     "user_tz": -60
    },
    "id": "nDH-Vkm0G0vz",
    "outputId": "21ccc90f-9336-4220-faba-e06fbfd3c5c1"
   },
   "outputs": [],
   "source": [
    "# mount google drive\n",
    "from google.colab import drive\n",
    "drive.mount('/content/drive')"
   ]
  },
  {
   "cell_type": "code",
   "execution_count": null,
   "outputs": [],
   "source": [
    "# import necessary packages\n",
    "import torch\n",
    "import random\n",
    "\n",
    "random.seed(0)\n",
    "\n",
    "from datetime import datetime\n",
    "\n",
    "DATE = datetime.now().strftime('%Y%m%d')\n",
    "IMAGE_SIZE = 1280\n",
    "\n",
    "print('torch %s %s' % (torch.__version__, torch.cuda.get_device_properties(0) if torch.cuda.is_available() else 'CPU'))"
   ],
   "metadata": {
    "collapsed": false
   }
  },
  {
   "cell_type": "code",
   "execution_count": null,
   "metadata": {
    "colab": {
     "base_uri": "https://localhost:8080/"
    },
    "executionInfo": {
     "elapsed": 4,
     "status": "ok",
     "timestamp": 1675092232394,
     "user": {
      "displayName": "Guy Coleman",
      "userId": "03981860468374888786"
     },
     "user_tz": -60
    },
    "id": "WAKJELDJG64W",
    "outputId": "357b9352-cf29-4078-a9f5-8b44062b2bf6"
   },
   "outputs": [],
   "source": [
    "%cd '/content/drive/MyDrive/Palmer-detection/ultralytics'"
   ]
  },
  {
   "cell_type": "code",
   "execution_count": null,
   "metadata": {
    "colab": {
     "base_uri": "https://localhost:8080/"
    },
    "executionInfo": {
     "elapsed": 17706,
     "status": "ok",
     "timestamp": 1675092250097,
     "user": {
      "displayName": "Guy Coleman",
      "userId": "03981860468374888786"
     },
     "user_tz": -60
    },
    "id": "TUFPge7f_1ms",
    "outputId": "d00eb4cd-66bf-40a5-d7c3-af58f41212a9"
   },
   "outputs": [],
   "source": [
    "# Git clone method (used for development and replication of results)\n",
    "%pip install -qe ultralytics\n",
    "import ultralytics\n",
    "ultralytics.checks()"
   ]
  },
  {
   "cell_type": "markdown",
   "source": [
    "Note this will be version [8.0.19](https://pypi.org/project/ultralytics/8.0.19/) to replicate results in the study. For the latest version, please check official Ultralytics documentation."
   ],
   "metadata": {
    "collapsed": false
   }
  },
  {
   "cell_type": "markdown",
   "metadata": {
    "id": "ZY2VXXXu74w5"
   },
   "source": [
    "# 2. Train\n",
    "\n",
    "Train YOLOv8 on detection, segmentation and classification datasets."
   ]
  },
  {
   "cell_type": "code",
   "execution_count": null,
   "metadata": {
    "colab": {
     "base_uri": "https://localhost:8080/"
    },
    "executionInfo": {
     "elapsed": 3370,
     "status": "ok",
     "timestamp": 1673357233212,
     "user": {
      "displayName": "Guy Coleman",
      "userId": "03981860468374888786"
     },
     "user_tz": -60
    },
    "id": "m8wnYKNW3NIW",
    "outputId": "8d0d9642-9516-41ec-c060-3ff6fcb1127d"
   },
   "outputs": [],
   "source": [
    "!yolo task=init"
   ]
  },
  {
   "cell_type": "code",
   "execution_count": null,
   "metadata": {
    "colab": {
     "background_save": true,
     "base_uri": "https://localhost:8080/"
    },
    "id": "wORQde7Agi_K",
    "outputId": "7e1d1a54-f6e7-4db9-e31f-ca6e7c578143"
   },
   "outputs": [],
   "source": [
    "models = ['n', 'm', 'x', 'x6']\n",
    "classes = ['1', '8']\n",
    "%cd '/content/drive/MyDrive/Palmer-detection/ultralytics'\n",
    "\n",
    "for model in models:\n",
    "  for class_num in classes:\n",
    "    for fold in range(0, 5):\n",
    "      yaml_path = f\"{class_num}cls_fold_{fold}.yaml\"\n",
    "      full_name = f'train/{DATE}_yolov8{model}_B8_F{fold}_{class_num}cls'\n",
    "\n",
    "      !yolo task=detect mode=train model=yolov8{model}.pt data={yaml_path} epochs=30 imgsz={IMAGE_SIZE} batch=8 name={full_name} augment=True"
   ]
  },
  {
   "cell_type": "markdown",
   "metadata": {
    "id": "TinjJyfqtOzS"
   },
   "source": [
    "# 3. Evaluation\n",
    "YOLOv8 does not automatically use the test split when evaluating model performance and there is no option to specify this in their package. Thus the following functions must be used to rename the val split within the .yaml files so that the test split is used."
   ]
  },
  {
   "cell_type": "code",
   "execution_count": null,
   "metadata": {
    "id": "VeMQaX0mINOm"
   },
   "outputs": [],
   "source": [
    "def replace_and_save(file_path):\n",
    "    with open(file_path, 'r') as f:\n",
    "        text = f.read()\n",
    "    text = text.replace('val', 'IGNORE')\n",
    "    text = text.replace('test:', 'val:')\n",
    "    new_file_path = file_path.replace('.yaml', '_test.yaml')\n",
    "    with open(new_file_path, 'w') as f:\n",
    "        f.write(text)"
   ]
  },
  {
   "cell_type": "code",
   "execution_count": null,
   "metadata": {
    "colab": {
     "base_uri": "https://localhost:8080/"
    },
    "executionInfo": {
     "elapsed": 5708,
     "status": "ok",
     "timestamp": 1674571468935,
     "user": {
      "displayName": "Guy Coleman",
      "userId": "03981860468374888786"
     },
     "user_tz": -60
    },
    "id": "WTpVgFkGIPFP",
    "outputId": "fa34f817-8811-46c0-f4bf-6b70e05ae523"
   },
   "outputs": [],
   "source": [
    "import os\n",
    "%cd '/content/drive/My Drive/Palmer-detection/ultralytics'\n",
    "yamls = r'ultralytics/yolo/data/datasets/testing'\n",
    "for yaml in os.listdir(yamls):\n",
    "  print(yaml)\n",
    "  replace_and_save(os.path.join(yamls, yaml))"
   ]
  },
  {
   "cell_type": "markdown",
   "source": [
    "Run the evaluation script for everything within the train directory."
   ],
   "metadata": {
    "collapsed": false
   }
  },
  {
   "cell_type": "code",
   "execution_count": null,
   "metadata": {
    "colab": {
     "base_uri": "https://localhost:8080/"
    },
    "executionInfo": {
     "elapsed": 198954,
     "status": "ok",
     "timestamp": 1674721356790,
     "user": {
      "displayName": "Guy Coleman",
      "userId": "03981860468374888786"
     },
     "user_tz": -60
    },
    "id": "ea32XyKHHNU5",
    "outputId": "27228edb-4eb6-406f-b3e8-34e03d4469e8"
   },
   "outputs": [],
   "source": [
    "import os\n",
    "train_path = \"/content/drive/My Drive/Palmer-detection/ultralytics/runs/detect/train\"\n",
    "%cd '/content/drive/My Drive/Palmer-detection/ultralytics'\n",
    "\n",
    "for run_name in os.listdir(train_path):\n",
    "  if 'v8' not in run_name:\n",
    "    print(f'skipping {run_name}')\n",
    "  \n",
    "  else:\n",
    "    fold = run_name.split(\"_\")[-3][-1]\n",
    "    group = run_name.split(\"_\")[-2][:-3]\n",
    "    \n",
    "    yaml_path = f\"{class_num}cls_fold_{fold}.yaml\"\n",
    "    out_name = 'val/' + run_name + '_val' # save name into the val directory as this is not automatic\n",
    "  \n",
    "    !yolo task=detect mode=val model=runs/detect/train/{run_name}/weights/best.pt data={yaml_path} imgsz={IMAGE_SIZE} name={out_name} batch=8 conf=0.001 iou=0.6\n",
    "  "
   ]
  },
  {
   "cell_type": "markdown",
   "metadata": {
    "id": "4JnkELT0cIJg"
   },
   "source": [
    "# 4. Predict\n",
    "\n",
    "`yolo mode=predict` runs YOLOv8 inference on a variety of sources, downloading models automatically from the [latest YOLOv8 release](https://github.com/ultralytics/ultralytics/releases), and saving results to `runs/predict`.\n"
   ]
  },
  {
   "cell_type": "code",
   "execution_count": null,
   "metadata": {
    "colab": {
     "base_uri": "https://localhost:8080/"
    },
    "executionInfo": {
     "elapsed": 15619,
     "status": "ok",
     "timestamp": 1673452510855,
     "user": {
      "displayName": "Guy Coleman",
      "userId": "03981860468374888786"
     },
     "user_tz": -60
    },
    "id": "zR9ZbuQCH7FX",
    "outputId": "28b73824-6e74-415d-cb90-d84640612fbd"
   },
   "outputs": [],
   "source": [
    "full_name = 'ENTER RUN NAME HERE'\n",
    "!yolo task=detect mode=predict model=runs/detect/{full_name}/weights/best.pt conf=0.25 source=datasets/test imgsz=1280\n",
    "# display.Image(filename='runs/detect/predict/zidane.jpg', width=600)"
   ]
  },
  {
   "cell_type": "markdown",
   "metadata": {
    "id": "nPZZeNrLCQG6"
   },
   "source": [
    "# 5. Export\n",
    "\n",
    "Export a YOLOv8 model to any format.\n",
    "\n",
    "Format                  | `format=...**bold text**`         | Model\n",
    "---                     | ---                       | ---\n",
    "PyTorch                 | -                         | yolov8n.pt\n",
    "TorchScript             | `torchscript`             | yolov8n.torchscript\n",
    "ONNX                    | `onnx`                    | yolov8n.onnx\n",
    "OpenVINO                | `openvino`                | yolov8n_openvino_model/\n",
    "TensorRT                | `engine`                  | yolov8n.engine\n",
    "CoreML                  | `coreml`                  | yolov8n.mlmodel\n",
    "TensorFlow SavedModel   | `saved_model`             | yolov8n_saved_model/\n",
    "TensorFlow GraphDef     | `pb`                      | yolov8n.pb\n",
    "TensorFlow Lite         | `tflite`                  | yolov8n.tflite\n",
    "TensorFlow Edge TPU     | `edgetpu`                 | yolov8n_edgetpu.tflite\n",
    "TensorFlow.js           | `tfjs`                    | yolov8n_web_model/\n",
    "PaddlePaddle            | `paddle`                  | yolov8n_paddle_model/"
   ]
  },
  {
   "cell_type": "code",
   "execution_count": null,
   "metadata": {
    "colab": {
     "base_uri": "https://localhost:8080/"
    },
    "id": "CYIjW4igCjqD",
    "outputId": "dd9e5aa6-8538-4403-c9d7-1548e8c4c39e"
   },
   "outputs": [],
   "source": [
    "!yolo mode=export model=yolov8n.pt format=torchscript"
   ]
  }
 ],
 "metadata": {
  "accelerator": "GPU",
  "colab": {
   "machine_shape": "hm",
   "provenance": [
    {
     "file_id": "https://github.com/ultralytics/ultralytics/blob/main/examples/tutorial.ipynb",
     "timestamp": 1673344251645
    }
   ]
  },
  "gpuClass": "premium",
  "kernelspec": {
   "display_name": "Python 3",
   "name": "python3"
  }
 },
 "nbformat": 4,
 "nbformat_minor": 0
}
