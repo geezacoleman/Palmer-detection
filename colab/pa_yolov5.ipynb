{
 "cells": [
  {
   "cell_type": "markdown",
   "source": [
    "# Palmer Amaranth (Amaranthus palmeri) Growth Stage Detection\n",
    "This Google Colab notebook has been adapted from the **official YOLOv3 notebook** by **Ultralytics** to train and evaluate YOLOv3 on the Palmer amaranth Growth Stage (PAGS8) dataset. The dataset is available for download from [Weed-AI](). Prior to use, the dataset should be setup using the instructions from the official repository.\n",
    "\n",
    "It accompanies the preprint: **Multi-growth stage plant recognition: a case study of Palmer amaranth (Amaranthus palmeri) in cotton (Gossypium hirsutum)** available on [arXiv](https://arxiv.org/abs/2307.15816). Please consider citing this preprint if you use the work in your research.\n",
    "\n",
    "Models were trained using Google Colab Pro+ with access to an NVIDIA A100-SXM4-40GB.\n",
    "\n",
    "This notbook consists of three parts:\n",
    "1. Setup\n",
    "2. Training\n",
    "3. Evaluation\n",
    "\n",
    "For additional documentation, training options and inference procedures please visit the official Ultralytics repository. (Remember to choose GPU in Runtime if not already selected. Runtime --> Change Runtime Type --> Hardware accelerator --> GPU)\n",
    "\n",
    "<img src=\"https://github.com/geezacoleman/Palmer-detection/assets/51358498/6040227e-a072-43bf-a789-72e0833f3168\"/>"
   ],
   "metadata": {
    "collapsed": false
   }
  },
  {
   "cell_type": "markdown",
   "source": [
    "# 1. Setup"
   ],
   "metadata": {
    "collapsed": false
   }
  },
  {
   "cell_type": "code",
   "execution_count": null,
   "outputs": [],
   "source": [
    "# mount google drive\n",
    "from google.colab import drive\n",
    "\n",
    "drive.mount('/content/drive')"
   ],
   "metadata": {
    "collapsed": false
   }
  },
  {
   "cell_type": "code",
   "execution_count": null,
   "metadata": {
    "colab": {
     "base_uri": "https://localhost:8080/"
    },
    "executionInfo": {
     "elapsed": 8,
     "status": "ok",
     "timestamp": 1674814424562,
     "user": {
      "displayName": "Guy Coleman",
      "userId": "03981860468374888786"
     },
     "user_tz": -60
    },
    "id": "1Fv8VN0rKEew",
    "outputId": "3bb6b483-cb8d-4216-e0ab-881cf0fecd9a"
   },
   "outputs": [],
   "source": [
    "# Assumes you have already cloned the Palmer-detection repository\n",
    "%cd '/content/drive/MyDrive/Palmer-detection'"
   ]
  },
  {
   "cell_type": "code",
   "execution_count": null,
   "metadata": {
    "colab": {
     "base_uri": "https://localhost:8080/"
    },
    "executionInfo": {
     "elapsed": 8825,
     "status": "ok",
     "timestamp": 1674814433383,
     "user": {
      "displayName": "Guy Coleman",
      "userId": "03981860468374888786"
     },
     "user_tz": -60
    },
    "id": "pkIKEEyjKVjY",
    "outputId": "a758847e-d338-479a-fa9f-c28128aec5db"
   },
   "outputs": [],
   "source": [
    "%cd yolov5\n",
    "!pip install -r requirements.txt"
   ]
  },
  {
   "cell_type": "code",
   "execution_count": null,
   "outputs": [],
   "source": [
    "# import the necessary packages\n",
    "import torch\n",
    "import os \n",
    "import random\n",
    "\n",
    "from datetime import datetime\n",
    "\n",
    "random.seed(0)\n",
    "DATE = datetime.now().strftime('%Y%m%d')\n",
    "IMAGE_SIZE = 1280\n",
    "\n",
    "print('torch %s %s' % (torch.__version__, torch.cuda.get_device_properties(0) if torch.cuda.is_available() else 'CPU'))"
   ],
   "metadata": {
    "collapsed": false
   }
  },
  {
   "cell_type": "markdown",
   "source": [
    "# 2. Training "
   ],
   "metadata": {
    "collapsed": false
   }
  },
  {
   "cell_type": "markdown",
   "source": [
    "### Weights and Biases\n",
    "WandB is an excellent tool to track/monitor training performance, particularly across large training runs. While optional, it is recommended, however, requires setting up an account and logging in below.\n",
    "\n",
    "Only run this cell if you plan on using WandB."
   ],
   "metadata": {
    "collapsed": false
   }
  },
  {
   "cell_type": "code",
   "execution_count": null,
   "metadata": {
    "colab": {
     "base_uri": "https://localhost:8080/",
     "height": 191
    },
    "executionInfo": {
     "elapsed": 31025,
     "status": "ok",
     "timestamp": 1674814612684,
     "user": {
      "displayName": "Guy Coleman",
      "userId": "03981860468374888786"
     },
     "user_tz": -60
    },
    "id": "QgPBKBGiFsLS",
    "outputId": "964c9adf-7045-49b3-ccf7-a1adf0b30a42"
   },
   "outputs": [],
   "source": [
    "# Weights & Biases  (optional)\n",
    "%pip install -q wandb\n",
    "import wandb\n",
    "wandb.login()"
   ]
  },
  {
   "cell_type": "markdown",
   "source": [
    "Check the dataset has been set up correctly"
   ],
   "metadata": {
    "collapsed": false
   }
  },
  {
   "cell_type": "code",
   "execution_count": null,
   "metadata": {
    "colab": {
     "base_uri": "https://localhost:8080/"
    },
    "executionInfo": {
     "elapsed": 22502,
     "status": "ok",
     "timestamp": 1669207009810,
     "user": {
      "displayName": "Guy Coleman",
      "userId": "03981860468374888786"
     },
     "user_tz": -60
    },
    "id": "fck7LsHXpiP0",
    "outputId": "d223440d-51de-411c-d8e4-6acfe8bf4280"
   },
   "outputs": [],
   "source": [
    "%cd '/content/drive/MyDrive/Palmer-detection/datasets/fold_0/8cls_fold_0'\n",
    "%ls\n",
    "print(len(os.listdir('images/train')), len(os.listdir('labels/train')))\n",
    "print(len(os.listdir('images/val')), len(os.listdir('labels/val')))\n",
    "print(len(os.listdir('images/test')), len(os.listdir('labels/test')))"
   ]
  },
  {
   "cell_type": "markdown",
   "source": [],
   "metadata": {
    "collapsed": false
   }
  },
  {
   "cell_type": "markdown",
   "source": [
    "## Class Grouping"
   ],
   "metadata": {
    "collapsed": false
   }
  },
  {
   "cell_type": "code",
   "execution_count": null,
   "outputs": [],
   "source": [
    "%cd '/content/drive/My Drive/Palmer-detection/yolov5'\n",
    "class_groups = ['8', '8-sz-', '3', '3-sz-', '1'] # remove 1280 if you have already trained other versions\n",
    "\n",
    "# p5 MODELS 8 classes - different folds\n",
    "for group in class_groups:\n",
    "  for fold in range(0, 5):\n",
    "    yaml_path = f\"{group}cls_fold_{fold}.yaml\"\n",
    "    full_name = f'{DATE}_yolov5m5_1280_B8_F{fold}_{group}cls_default'\n",
    "    print(full_name)\n",
    "    !python train.py --img {IMAGE_SIZE} --cfg yolov5m.yaml --hyp hyp.scratch-low.yaml --batch 8 --epochs 30 --data {yaml_path} --weights yolov5m.pt --name {full_name}\n"
   ],
   "metadata": {
    "collapsed": false
   }
  },
  {
   "cell_type": "markdown",
   "source": [
    "## Image Size\n",
    "Train an all eight classes for four different resolutions, three model sizes and five folds."
   ],
   "metadata": {
    "collapsed": false
   }
  },
  {
   "cell_type": "code",
   "execution_count": null,
   "outputs": [],
   "source": [
    "%cd '/content/drive/My Drive/Palmer-detection/yolov5'\n",
    "image_sizes = [1600, 1280, 320, 640] # remove 1280 if you have already trained other versions\n",
    "models = ['n', 'm', 'x']\n",
    "\n",
    "# p5 MODELS 8 classes - different folds\n",
    "for image_size in image_sizes:\n",
    "  for model in models:\n",
    "    for fold in range(0, 5):\n",
    "      yaml_path = f\"8cls_fold_{fold}.yaml\"\n",
    "      full_name = f'{DATE}_yolov5{model}5_{image_size}_B8_F{fold}_8cls'\n",
    "      print(full_name)\n",
    "      !python train.py --img {image_size} --cfg yolov5{model}.yaml --hyp hyp.scratch-low.yaml --batch 8 --epochs 30 --data {yaml_path} --weights yolov5{model}.pt --name {full_name}\n"
   ],
   "metadata": {
    "collapsed": false
   }
  },
  {
   "cell_type": "markdown",
   "source": [
    "## Model Variants\n",
    "Train all YOLOv5 model variants."
   ],
   "metadata": {
    "collapsed": false
   }
  },
  {
   "cell_type": "code",
   "execution_count": null,
   "outputs": [],
   "source": [
    "# FOLDS\n",
    "%cd '/content/drive/My Drive/Palmer-detection/yolov5'\n",
    "models = ['x6', 'n6', 'm6', 'n', 's', 'm', 'l', 'x'] # this will train all model variants - remove as necessary.\n",
    "classes = ['1', '8']\n",
    "\n",
    "# p5 MODELS 8 classes - different folds\n",
    "for model in models:\n",
    "  for class_num in classes:\n",
    "    for fold in range(0, 5):\n",
    "      yaml_path = f\"{class_num}cls_fold_{fold}.yaml\"\n",
    "      full_name = f'{DATE}_yolov5{model}_B8_F{fold}_{class_num}cls'\n",
    "      print(full_name)\n",
    "      \n",
    "      !python train.py --img 1280 --cfg yolov5{model}.yaml --hyp hyp.scratch-low.yaml --batch 8 --epochs 30 --data {yaml_path} --weights yolov5{model}.pt --name {full_name}"
   ],
   "metadata": {
    "collapsed": false
   }
  },
  {
   "cell_type": "markdown",
   "metadata": {
    "id": "F6VIU2pA-DGp"
   },
   "source": [
    "# 3. Evaluation\n",
    "Run val.py on all the training runs"
   ]
  },
  {
   "cell_type": "code",
   "execution_count": null,
   "metadata": {
    "colab": {
     "base_uri": "https://localhost:8080/"
    },
    "executionInfo": {
     "elapsed": 28405,
     "status": "ok",
     "timestamp": 1673476353485,
     "user": {
      "displayName": "Guy Coleman",
      "userId": "03981860468374888786"
     },
     "user_tz": -60
    },
    "id": "nuW7gBAL-C-2",
    "outputId": "69dd1ad3-0baa-4ea9-bb66-dd5ce34bc474"
   },
   "outputs": [],
   "source": [
    "train_path = \"/content/drive/My Drive/Palmer-detection/yolov5/runs/train\"\n",
    "%cd '/content/drive/My Drive/Palmer-detection/yolov5'\n",
    "\n",
    "for run_name in os.listdir(train_path):\n",
    "  if 'v5' not in run_name:\n",
    "    print(f'Skipping {run_name}')\n",
    "  else:\n",
    "    fold = run_name.split(\"_\")[-3][-1]\n",
    "    group = run_name.split(\"_\")[-2][:-3]\n",
    "    \n",
    "    yaml_path = f\"{class_num}cls_fold_{fold}.yaml\"\n",
    "    \n",
    "    !python val.py --img 1280 --weights runs/train/{run_name}/weights/best.pt --data data/{yaml_path} --name {run_name} --task 'test' --batch-size 8 --iou-thres 0.6 --conf-thres 0.001 --verbose --save-metrics\n"
   ]
  }
 ],
 "metadata": {
  "accelerator": "GPU",
  "colab": {
   "collapsed_sections": [
    "cJ34rvLAM7Nc",
    "heH8siQOqPUz",
    "dfxDUp_3VVD6",
    "XkubJoYgVGca",
    "ls_5Qht0tC1R"
   ],
   "machine_shape": "hm",
   "provenance": [],
   "authorship_tag": "ABX9TyNUL0yLHuhn9RDTTm2xmGDf"
  },
  "gpuClass": "premium",
  "kernelspec": {
   "display_name": "Python 3",
   "name": "python3"
  },
  "language_info": {
   "name": "python"
  }
 },
 "nbformat": 4,
 "nbformat_minor": 0
}
