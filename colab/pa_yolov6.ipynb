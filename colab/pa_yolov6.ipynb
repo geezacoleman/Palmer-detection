{
 "cells": [
  {
   "cell_type": "markdown",
   "source": [
    "# Palmer Amaranth (Amaranthus palmeri) Growth Stage Detection\n",
    "This Google Colab notebook has been developed from the official YOLOv6 ['Train on Custom Data' tutorial](https://github.com/meituan/YOLOv6/blob/main/docs/Train_custom_data.md). It can be used to train and evaluate YOLOv6 on the Palmer amaranth Growth Stage (PAGS8) dataset. The dataset is available for download from [Weed-AI](). Prior to use, the dataset should be setup using the instructions from the official repository.\n",
    "\n",
    "Please note this uses the [2.0 release](https://github.com/meituan/YOLOv6/releases/tag/0.2.0) from the v6 repository.\n",
    "\n",
    "It accompanies the preprint: **Multi-growth stage plant recognition: a case study of Palmer amaranth (Amaranthus palmeri) in cotton (Gossypium hirsutum)** available on [arXiv](https://arxiv.org/abs/2307.15816). Please consider citing this preprint if you use the work in your research.\n",
    "\n",
    "Models were trained using Google Colab Pro+ with access to an NVIDIA A100-SXM4-40GB.\n",
    "\n",
    "This notbook consists of three parts:\n",
    "1. Setup\n",
    "2. Training\n",
    "3. Evaluation\n",
    "\n",
    "(Remember to choose GPU in Runtime if not already selected. Runtime --> Change Runtime Type --> Hardware accelerator --> GPU)\n",
    "\n",
    "<img src=\"https://github.com/geezacoleman/Palmer-detection/assets/51358498/6040227e-a072-43bf-a789-72e0833f3168\"/>"
   ],
   "metadata": {
    "collapsed": false
   }
  },
  {
   "cell_type": "markdown",
   "source": [
    "# 1. Setup"
   ],
   "metadata": {
    "collapsed": false
   }
  },
  {
   "cell_type": "code",
   "execution_count": null,
   "metadata": {
    "colab": {
     "base_uri": "https://localhost:8080/"
    },
    "executionInfo": {
     "elapsed": 17549,
     "status": "ok",
     "timestamp": 1675089043844,
     "user": {
      "displayName": "Guy Coleman",
      "userId": "03981860468374888786"
     },
     "user_tz": -60
    },
    "id": "6qMUXWJhJwiI",
    "outputId": "5cd731ad-49f5-4c9a-982d-8b5c08aa3453"
   },
   "outputs": [],
   "source": [
    "# mount google drive\n",
    "from google.colab import drive\n",
    "drive.mount('/content/drive')"
   ]
  },
  {
   "cell_type": "code",
   "execution_count": null,
   "metadata": {
    "colab": {
     "base_uri": "https://localhost:8080/"
    },
    "executionInfo": {
     "elapsed": 9,
     "status": "ok",
     "timestamp": 1675089043844,
     "user": {
      "displayName": "Guy Coleman",
      "userId": "03981860468374888786"
     },
     "user_tz": -60
    },
    "id": "1Fv8VN0rKEew",
    "outputId": "28f54a5f-4477-4fdb-8919-9271f580a0ca"
   },
   "outputs": [],
   "source": [
    "rootDir = '/content/drive/MyDrive/Colab Notebooks/Palmer-detection/data'\n",
    "%cd '/content/drive/MyDrive/Colab Notebooks/Palmer-detection/'"
   ]
  },
  {
   "cell_type": "code",
   "execution_count": null,
   "metadata": {
    "colab": {
     "base_uri": "https://localhost:8080/"
    },
    "executionInfo": {
     "elapsed": 9190,
     "status": "ok",
     "timestamp": 1675089053029,
     "user": {
      "displayName": "Guy Coleman",
      "userId": "03981860468374888786"
     },
     "user_tz": -60
    },
    "id": "pkIKEEyjKVjY",
    "outputId": "64947343-02b4-4b3a-aed7-c4f7ddb7e325"
   },
   "outputs": [],
   "source": [
    "%cd yolov6\n",
    "!pip install -r requirements.txt"
   ]
  },
  {
   "cell_type": "code",
   "execution_count": null,
   "metadata": {
    "colab": {
     "base_uri": "https://localhost:8080/"
    },
    "executionInfo": {
     "elapsed": 4022,
     "status": "ok",
     "timestamp": 1675089057045,
     "user": {
      "displayName": "Guy Coleman",
      "userId": "03981860468374888786"
     },
     "user_tz": -60
    },
    "id": "_2IiPCt6JFb_",
    "outputId": "20c98d20-05a6-4419-9940-0a30d2a315fd"
   },
   "outputs": [
    {
     "output_type": "stream",
     "name": "stdout",
     "text": [
      "torch 1.13.1+cu116 _CudaDeviceProperties(name='NVIDIA A100-SXM4-40GB', major=8, minor=0, total_memory=40536MB, multi_processor_count=108)\n"
     ]
    }
   ],
   "source": [
    "# import necessary packages\n",
    "import torch\n",
    "import random\n",
    "\n",
    "random.seed(0)\n",
    "\n",
    "from datetime import datetime\n",
    "\n",
    "DATE = datetime.now().strftime('%Y%m%d')\n",
    "IMAGE_SIZE = 1280\n",
    "\n",
    "print('torch %s %s' % (torch.__version__, torch.cuda.get_device_properties(0) if torch.cuda.is_available() else 'CPU'))"
   ]
  },
  {
   "cell_type": "markdown",
   "source": [
    "## Download pretrained models\n",
    "Download the pretrained models to finetune on the custom data into the 'weights' directory within YOLOv6. They should only be downloaded once.\n",
    "\n",
    "NOTE: These are 0.2.0 models from the [2.0 release](https://github.com/meituan/YOLOv6/releases/tag/0.2.0). For the latest models please check the official repository."
   ],
   "metadata": {
    "collapsed": false
   }
  },
  {
   "cell_type": "code",
   "execution_count": null,
   "metadata": {
    "colab": {
     "base_uri": "https://localhost:8080/"
    },
    "executionInfo": {
     "elapsed": 2822,
     "status": "ok",
     "timestamp": 1670624071104,
     "user": {
      "displayName": "Guy Coleman",
      "userId": "03981860468374888786"
     },
     "user_tz": -60
    },
    "id": "FMWBSCp8VRQp",
    "outputId": "e71bfd4f-918f-4335-9a81-541145fd93d1"
   },
   "outputs": [],
   "source": [
    "%cd ..\n",
    "!wget https://github.com/meituan/YOLOv6/releases/download/0.2.0/yolov6n.pt -O weights/yolov6n.pt\n",
    "!wget https://github.com/meituan/YOLOv6/releases/download/0.2.0/yolov6s.pt -O weights/yolov6s.pt\n",
    "!wget https://github.com/meituan/YOLOv6/releases/download/0.2.0/yolov6m.pt -O weights/yolov6m.pt\n",
    "!wget https://github.com/meituan/YOLOv6/releases/download/0.2.0/yolov6t.pt -O weights/yolov6t.pt\n",
    "!wget https://github.com/meituan/YOLOv6/releases/download/0.2.0/yolov6l.pt -O weights/yolov6l.pt\n",
    "!wget https://github.com/meituan/YOLOv6/releases/download/0.2.0/yolov6l.pt -O weights/yolov6l_relu.pt"
   ]
  },
  {
   "cell_type": "markdown",
   "source": [
    "You can use Tensorboard to track training."
   ],
   "metadata": {
    "collapsed": false
   }
  },
  {
   "cell_type": "code",
   "execution_count": null,
   "metadata": {
    "id": "tZnl2L39ThAJ"
   },
   "outputs": [],
   "source": [
    "# Load the TensorBoard notebook extension\n",
    "%load_ext tensorboard"
   ]
  },
  {
   "cell_type": "code",
   "execution_count": null,
   "metadata": {
    "id": "c_a1DWBETfPb"
   },
   "outputs": [],
   "source": [
    "%tensorboard --logdir logs"
   ]
  },
  {
   "cell_type": "markdown",
   "source": [
    "# 2. Training"
   ],
   "metadata": {
    "collapsed": false
   }
  },
  {
   "cell_type": "code",
   "execution_count": null,
   "outputs": [],
   "source": [
    "%cd '/content/drive/My Drive/Colab Notebooks/Palmer-detection/yolov6'\n",
    "models = ['n', 't', 's', 'm', 'l']\n",
    "classes = ['8', '1']\n",
    "\n",
    "# different folds\n",
    "for model in models:\n",
    "  for class_num in classes:\n",
    "    for fold in range(0, 5):\n",
    "      yaml_path = f\"{class_num}cls_fold_{fold}.yaml\"\n",
    "      full_name = f'{DATE}_yolov6{model}_B8_F{fold}_{class_num}cls'\n",
    "      \n",
    "      print('################ STARTING {} ###################'.format(full_name))\n",
    "      !python tools/train.py --workers 8 --batch 8 --device 0 --img-size {IMAGE_SIZE} --epochs 30 --conf configs/yolov6{model}_finetune.py  --data data/{data_path}  --name {full_name} --eval-final-only"
   ],
   "metadata": {
    "collapsed": false
   }
  },
  {
   "cell_type": "markdown",
   "metadata": {
    "id": "xsZ_8PmN8Rut"
   },
   "source": [
    "# 3. Evaluation"
   ]
  },
  {
   "cell_type": "code",
   "execution_count": null,
   "metadata": {
    "colab": {
     "base_uri": "https://localhost:8080/"
    },
    "executionInfo": {
     "elapsed": 418987,
     "status": "ok",
     "timestamp": 1670684719474,
     "user": {
      "displayName": "Guy Coleman",
      "userId": "03981860468374888786"
     },
     "user_tz": -60
    },
    "id": "Fp4NjCBggA52",
    "outputId": "a80d6d85-6093-4ca3-c3dc-f47ac04fef79"
   },
   "outputs": [],
   "source": [
    "import os\n",
    "train_path = \"/content/drive/My Drive/Colab Notebooks/Palmer-detection/yolov6/runs/train\"\n",
    "\n",
    "for run_name in os.listdir(train_path):\n",
    "  if 'v6' not in run_name:\n",
    "    print(f'skipping {run_name}')\n",
    "  \n",
    "  else:\n",
    "    fold = run_name.split(\"_\")[-3][-1]\n",
    "    class_num = run_name.split(\"_\")[-2][:-3]\n",
    "    model = run_name.split(\"_\")[1][-1]\n",
    "    \n",
    "    yaml_path = f\"{class_num}cls_fold_{fold}.yaml\"\n",
    "  \n",
    "    !python tools/eval.py --device 0 --img-size {IMAGE_SIZE} --task 'test' --config-file configs/yolov6{model}_finetune_eval.py --weights runs/train/{run_name}/weights/best_ckpt.pt --data data/{data_name} --name {run_name}\n"
   ]
  }
 ],
 "metadata": {
  "accelerator": "GPU",
  "colab": {
   "machine_shape": "hm",
   "provenance": [],
   "authorship_tag": "ABX9TyMyw73h5Ij0ncPq9VdMyVPV"
  },
  "gpuClass": "premium",
  "kernelspec": {
   "display_name": "Python 3",
   "name": "python3"
  },
  "language_info": {
   "name": "python"
  }
 },
 "nbformat": 4,
 "nbformat_minor": 0
}
